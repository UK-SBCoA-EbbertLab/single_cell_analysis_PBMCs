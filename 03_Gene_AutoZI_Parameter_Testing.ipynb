{
 "cells": [
  {
   "cell_type": "code",
   "execution_count": null,
   "id": "8057ebbe-d457-4505-8f99-852ca6203480",
   "metadata": {},
   "outputs": [],
   "source": [
    "import sys, os, platform, psutil, sys, tempfile\n",
    "import scvi, sklearn, scipy, anndata, scanpy as sc, seaborn as sns, torch, numpy as np, muon\n",
    "\n",
    "print(\"Python:\", sys.version.split()[0])\n",
    "print(\"OS:\", platform.system(), platform.release())\n",
    "print(\"CPU count:\", psutil.cpu_count(logical=True))\n",
    "print(\"Memory (GB):\", round(psutil.virtual_memory().total / (1024**3), 2))\n",
    "print (\"\")\n",
    "print(\"scvi-tools:\", scvi.__version__)\n",
    "print(\"scikit-learn:\", sklearn.__version__)\n",
    "print(\"scipy:\", scipy.__version__)\n",
    "print(\"anndata:\", anndata.__version__)\n",
    "print(\"scanpy:\", sc.__version__)\n",
    "print(\"seaborn:\", sns.__version__)\n",
    "print(\"torch:\", torch.__version__)\n",
    "print(\"numpy:\", np.__version__)\n",
    "print(\"muon:\", muon.__version__)"
   ]
  },
  {
   "cell_type": "code",
   "execution_count": null,
   "id": "20aea60f-7417-49d0-b88e-95e5e1338e0a",
   "metadata": {},
   "outputs": [],
   "source": [
    "sc.set_figure_params(figsize=(6, 6), frameon=False) #set default parameters for all Scanpy plots\n",
    "sns.set_theme()\n",
    "torch.set_float32_matmul_precision(\"high\") # this setting prefers accuracy and reproducibility over speed\n",
    "save_dir = tempfile.TemporaryDirectory()\n",
    "\n",
    "# Define the output directory relative to the current working directory\n",
    "output_dir = 'Intermediate Files/Parameter_Testing'\n",
    "os.makedirs(output_dir, exist_ok=True)\n",
    "\n",
    "# You can now use output_dir to save your file s\n",
    "print(f\"Output directory is set to: {output_dir}\")"
   ]
  },
  {
   "cell_type": "code",
   "execution_count": null,
   "id": "2efe0e5e-68af-4857-b379-0c41feecf4df",
   "metadata": {},
   "outputs": [],
   "source": [
    "from anndata import read_h5ad\n",
    "\n",
    "# Define the folder path\n",
    "Int_folder = \"Intermediate_Files/QC/\"\n",
    "\n",
    "gene_data_std = read_h5ad(os.path.join(Int_folder, \"Concatenated_Gene_Data.h5ad\"))"
   ]
  },
  {
   "cell_type": "code",
   "execution_count": null,
   "id": "4bb87bd8-07a2-4181-97d9-c3254bed3ca8",
   "metadata": {},
   "outputs": [],
   "source": [
    "# Check for initial NaN values\n",
    "print(\"Initial NaN values in the PBMC Gene data matrix:\", np.isnan(gene_data_std.X).sum())"
   ]
  },
  {
   "cell_type": "code",
   "execution_count": null,
   "id": "e00e3b5a-e397-4bb0-b56b-64bc55fd72a9",
   "metadata": {},
   "outputs": [],
   "source": [
    "print(gene_data_std.obs[\"batch\"].value_counts())"
   ]
  },
  {
   "cell_type": "code",
   "execution_count": null,
   "id": "17327249-7bb5-4c6f-bdac-9d87e512f833",
   "metadata": {},
   "outputs": [],
   "source": [
    "gene_data_std.X.dtype"
   ]
  },
  {
   "cell_type": "code",
   "execution_count": null,
   "id": "e62a9893-26d2-4d9b-8b43-e03b328f3a3c",
   "metadata": {},
   "outputs": [],
   "source": [
    "# save raw data from X to counts layer \n",
    "gene_data_std.layers[\"counts\"] = gene_data_std.X.copy()"
   ]
  },
  {
   "cell_type": "code",
   "execution_count": null,
   "id": "5bfd374e-b52a-4b4f-86e0-0fefc44f2453",
   "metadata": {},
   "outputs": [],
   "source": [
    "## create a new MuData object where the normalized data are another “modality”\n",
    "mdata_g_std = muon.MuData({\"rna\":gene_data_std.copy()}, axis=-1)\n",
    "## Now rna is count-based and log_norm_rna is log-normalized\n",
    "mdata_g_std.mod[\"rna\"].X = mdata_g_std.mod[\"rna\"].layers[\"counts\"]\n",
    "del mdata_g_std.mod[\"rna\"].raw\n",
    "del mdata_g_std.mod[\"rna\"].layers[\"counts\"]"
   ]
  },
  {
   "cell_type": "code",
   "execution_count": null,
   "id": "da32abe7-1725-436c-9edf-76bfddaee8bb",
   "metadata": {},
   "outputs": [],
   "source": [
    "mdata_g_std"
   ]
  },
  {
   "cell_type": "code",
   "execution_count": null,
   "id": "c107ee20-f2dc-493a-8068-a3b2d0a87617",
   "metadata": {},
   "outputs": [],
   "source": [
    "## Extract the RNA modality\n",
    "rna_adata_g_std = mdata_g_std.mod['rna']\n",
    "\n",
    "## Ensure that the counts layer is set\n",
    "rna_adata_g_std.layers[\"counts\"] = rna_adata_g_std.X.copy()"
   ]
  },
  {
   "cell_type": "code",
   "execution_count": null,
   "id": "ec9f6b1f-8f20-4f11-8f60-b541e324cc0e",
   "metadata": {},
   "outputs": [],
   "source": [
    "print(rna_adata_g_std.obs[\"batch\"].value_counts())"
   ]
  },
  {
   "cell_type": "code",
   "execution_count": null,
   "id": "5d9ff3cf-415b-44f8-bcda-921a6f5e2c51",
   "metadata": {},
   "outputs": [],
   "source": [
    "rna_adata_g_std.X.dtype"
   ]
  },
  {
   "cell_type": "code",
   "execution_count": null,
   "id": "132c9f65-77f5-47da-a8ed-80a02742e23a",
   "metadata": {},
   "outputs": [],
   "source": [
    "print(mdata_g_std.mod['rna'].obs.columns)  # List all columns in .obs"
   ]
  },
  {
   "cell_type": "code",
   "execution_count": null,
   "id": "309be852-8f96-46e0-89ed-a9f78a255bbe",
   "metadata": {},
   "outputs": [],
   "source": [
    "# Check the column's dtype\n",
    "print(mdata_g_std.mod['rna'].obs['batch'].dtype)\n",
    "\n",
    "# Display unique values\n",
    "print(mdata_g_std.mod['rna'].obs['batch'].unique())"
   ]
  },
  {
   "cell_type": "code",
   "execution_count": null,
   "id": "6c4fd5e2-e91a-4868-a987-455e4857b1f6",
   "metadata": {},
   "outputs": [],
   "source": [
    "if \"_scvi_batch\" in mdata_g_std.mod['rna'].obs.columns:\n",
    "    del mdata_g_std.mod['rna'].obs[\"_scvi_batch\"]"
   ]
  },
  {
   "cell_type": "code",
   "execution_count": null,
   "id": "c4fd791f-2c5c-4748-8066-09c648c9d993",
   "metadata": {},
   "outputs": [],
   "source": [
    "from scvi.model import AUTOZI\n",
    "\n",
    "AUTOZI.setup_anndata(\n",
    "    adata=mdata_g_std.mod['rna'],\n",
    "    batch_key=\"batch\"  # Specify the batch column\n",
    ")"
   ]
  },
  {
   "cell_type": "code",
   "execution_count": null,
   "id": "76c0b466-f274-482f-8a96-5b3b6a3a8ce4",
   "metadata": {},
   "outputs": [],
   "source": [
    "print(mdata_g_std.mod['rna'].obs.columns)  # Should include \"_scvi_batch\"\n",
    "print(mdata_g_std.mod['rna'].obs[\"_scvi_batch\"].unique())  # Check the values to indicate number of batches"
   ]
  },
  {
   "cell_type": "code",
   "execution_count": null,
   "id": "6387914d-9c99-471f-973d-9be6d90ed264",
   "metadata": {},
   "outputs": [],
   "source": [
    "## (Optional) if _scvi_batch is missing or batches do not contain assigned integers, perform the following:\n",
    "\n",
    "#from scvi.data import AnnDataManager\n",
    "#from scvi.data.fields import CategoricalObsField\n",
    "\n",
    "## Initialize AnnDataManager\n",
    "#adata_manager = AnnDataManager(\n",
    "#    fields=[\n",
    "#        CategoricalObsField(\"batch\", attr_key=\"_scvi_batch\")  # Specify the batch key\n",
    "#    ]\n",
    "#)\n",
    "\n",
    "## Register integer # to each batch within the RNA object\n",
    "#adata_manager.register_fields(mdata_g_std.mod['rna'])\n",
    "#\n",
    "## Validate that batch was successfully found and registered\n",
    "#adata_manager.validate()\n",
    "\n",
    "## Print the unique batch IDs in _scvi_batch ([0,1] is two batches)\n",
    "#print(mdata_g_std.mod['rna'].obs['_scvi_batch'].unique())"
   ]
  },
  {
   "cell_type": "code",
   "execution_count": null,
   "id": "b5c45b47-c887-4b7f-9f68-48c0c27c5233",
   "metadata": {},
   "outputs": [],
   "source": [
    "print(mdata_g_std.mod['rna'].uns.keys())\n",
    "print(type(mdata_g_std.mod['rna']))\n",
    "print(mdata_g_std.mod['rna'].obs.columns)"
   ]
  },
  {
   "cell_type": "code",
   "execution_count": null,
   "id": "4588b0c0-9c2c-4dac-ad33-429a42b3ce39",
   "metadata": {},
   "outputs": [],
   "source": [
    "import os\n",
    "os.environ[\"OMP_NUM_THREADS\"] = \"127\"\n",
    "os.environ[\"MKL_NUM_THREADS\"] = \"127\""
   ]
  },
  {
   "cell_type": "code",
   "execution_count": null,
   "id": "6099a99b-65c9-4fa5-ae84-45257afa5ac3",
   "metadata": {},
   "outputs": [],
   "source": [
    "def run_autozi_test(\n",
    "    adata_full,\n",
    "    subset_n=1000, # number of cells to randomly sample\n",
    "    n_latent=20, # number of latent space dimensions\n",
    "    dropout_rate=0.3, # prevents overreliance on a single subset of neurons\n",
    "    learning_rate=1e-2, # rate at which parameters are updated during each iteration\n",
    "    weight_decay=1e-3, # reduces sensitivity to noise\n",
    "    max_epochs=20, # max number of passes through training data, low for testing\n",
    "    seed=42, # random seed for reproducibility\n",
    "):\n",
    "    # Subset the data\n",
    "    np.random.seed(seed)\n",
    "    subset_indices = np.random.choice(adata_full.obs_names, size=min(subset_n, adata_full.n_obs), replace=False)\n",
    "    adata_subset = adata_full[subset_indices].copy()\n",
    "\n",
    "    # Setup for scVI\n",
    "    AUTOZI.setup_anndata(adata_subset, batch_key=\"batch\")\n",
    "\n",
    "    # Initialize model\n",
    "    model = AUTOZI(\n",
    "        adata=adata_subset,\n",
    "        n_latent=n_latent,\n",
    "        dropout_rate=dropout_rate\n",
    "    )\n",
    "\n",
    "    # Train\n",
    "    model.train(\n",
    "        max_epochs=max_epochs, \n",
    "        train_size=0.9, # 90% training / 10% validation split\n",
    "        early_stopping=True, # Stop early if validation loss stops improving\n",
    "        early_stopping_patience=10, # Number of stagnant epochs before stopping\n",
    "        batch_size=128, #. Mini-batch size for training\n",
    "        plan_kwargs={\n",
    "            \"lr\": learning_rate,\n",
    "            \"weight_decay\": weight_decay\n",
    "        }\n",
    "    )\n",
    "\n",
    "    # Retrieve training metrics: ELBO = Evidence Lower Bound, a measure of model fit\n",
    "    train_elbo = model.history['elbo_train'].iloc[-1, 0]\n",
    "    val_elbo = model.history['elbo_validation'].iloc[-1, 0]\n",
    "\n",
    "    # Summarize results\n",
    "    print(f\"✅ Finished: latent={n_latent}, dropout={dropout_rate}, lr={learning_rate}, wd={weight_decay}\")\n",
    "    print(f\"   Train ELBO: {train_elbo:.2f}, Val ELBO: {val_elbo:.2f}\")\n",
    "    return model"
   ]
  },
  {
   "cell_type": "code",
   "execution_count": null,
   "id": "082ab034-6746-4650-ace3-01f376c99a95",
   "metadata": {},
   "outputs": [],
   "source": []
  },
  {
   "cell_type": "code",
   "execution_count": null,
   "id": "47f77ea1-b9f7-48ba-97a0-a2bb9b2f4a4c",
   "metadata": {},
   "outputs": [],
   "source": [
    "# === Load your MuData ===\n",
    "# (Assumes you already loaded it like this)\n",
    "adata = mdata_g_std.mod['rna']"
   ]
  },
  {
   "cell_type": "code",
   "execution_count": null,
   "id": "97d7c6d4-37e4-451c-8cd2-4969bdb0dd52",
   "metadata": {},
   "outputs": [],
   "source": [
    "# === Run test ===\n",
    "test_model = run_autozi_test(\n",
    "    adata_full=adata,\n",
    "    subset_n=5000,\n",
    "    n_latent=30,\n",
    "    dropout_rate=0.4,\n",
    "    learning_rate=5e-3,\n",
    "    weight_decay=1e-2\n",
    ")"
   ]
  },
  {
   "cell_type": "code",
   "execution_count": null,
   "id": "1625448c-ca5f-41d4-9239-96374c432a4f",
   "metadata": {},
   "outputs": [],
   "source": [
    "# Access training history and visualize\n",
    "import matplotlib.pyplot as plt\n",
    "\n",
    "train_elbo = test_model.history['elbo_train']  # ELBO on training data per epoch\n",
    "val_elbo = test_model.history['elbo_validation']  # ELBO on validation data per epoch\n",
    "\n",
    "# Print last few values of training and validation ELBO curves to look for convergence or early stopping behavior\n",
    "print(\"Training ELBO gene-level:\", train_elbo[-10:])\n",
    "print(\"Validation ELBO gene-level:\", val_elbo[-10:])"
   ]
  },
  {
   "cell_type": "code",
   "execution_count": null,
   "id": "c3b2b589-be33-4cad-a54d-3e2118690216",
   "metadata": {},
   "outputs": [],
   "source": [
    "# Plot the training and validation ELBO curves and look for convergence\n",
    "plt.plot(train_elbo, label=\"Training ELBO\")\n",
    "plt.plot(val_elbo, label=\"Validation ELBO\")\n",
    "plt.xlabel(\"Epoch\")\n",
    "plt.ylabel(\"Negative ELBO\") # Lower values indicate better model fit\n",
    "plt.legend()\n",
    "plt.title(\"Training vs Validation Loss (ELBO) Gene-Level\")\n",
    "plt.show()"
   ]
  },
  {
   "cell_type": "code",
   "execution_count": null,
   "id": "ee78aa45-4738-4b49-b818-c1987eef7ebe",
   "metadata": {},
   "outputs": [],
   "source": [
    "# Retrieve model latent representation\n",
    "latent = test_model.get_latent_representation(test_model.adata)\n",
    "\n",
    "# Store latent embedding in AnnData object\n",
    "test_model.adata.obsm[\"X_AUTOZI_test\"] = latent\n",
    "\n",
    "# Compute UMAP from AutoZI latent space\n",
    "sc.pp.neighbors(test_model.adata, use_rep=\"X_AUTOZI_test\")\n",
    "sc.tl.umap(test_model.adata)\n",
    "\n",
    "# --Evaluate batch mixing using silhouette score--\n",
    "# Score closer to 0 = good mixing, score closer to 1 = poor mixing\n",
    "from sklearn.metrics import silhouette_score\n",
    "\n",
    "print(\"silhouetts mixing score:\", silhouette_score(latent, test_model.adata.obs['batch']))\n",
    "\n",
    "# Visualize batch distributions across UMAP\n",
    "sc.pl.umap(test_model.adata, color=\"batch\", title=\"AUTOZI Latent - Batch Mixing\")"
   ]
  },
  {
   "cell_type": "code",
   "execution_count": null,
   "id": "501eefe4-5516-42d1-a393-4d7efa85fbbd",
   "metadata": {},
   "outputs": [],
   "source": [
    "# -- Compute neighborhood-based batch entropy --\n",
    "# Local batch diversity among nearest neighbors\n",
    "from sklearn.neighbors import NearestNeighbors\n",
    "from scipy.stats import entropy\n",
    "import numpy as np\n",
    "\n",
    "X = latent\n",
    "labels = test_model.adata.obs['batch'].values\n",
    "\n",
    "# Identify 30 nearest neighbors for each cell in latent space\n",
    "n_neighbors = 30\n",
    "knn = NearestNeighbors(n_neighbors=n_neighbors + 1).fit(X)\n",
    "distances, indices = knn.kneighbors(X)\n",
    "\n",
    "batch_entropies = []\n",
    "for i in range(X.shape[0]):\n",
    "    neighbor_batches = labels[indices[i][1:]]  # exclude self\n",
    "    _, counts = np.unique(neighbor_batches, return_counts=True)\n",
    "    batch_entropies.append(entropy(counts, base=2))  # base-2 for interpretability\n",
    "\n",
    "# Compute the true max entropy for a uniform distribution over batches given n_neighbors\n",
    "n_batches = len(np.unique(labels))\n",
    "ideal_counts = np.full(n_batches, n_neighbors / n_batches)\n",
    "max_entropy = entropy(ideal_counts, base=2)\n",
    "\n",
    "\n",
    "print(\"Max possible entropy with\", n_batches, \"batches and\", n_neighbors, \"neighbors:\", max_entropy)\n",
    "print(\"Mean entropy of batch mixing:\", np.mean(batch_entropies))"
   ]
  },
  {
   "cell_type": "code",
   "execution_count": null,
   "id": "70783c4d-a42a-4c64-8acf-897acc59304e",
   "metadata": {},
   "outputs": [],
   "source": [
    "# Use the same adata subset used to train `test_model`\n",
    "latent = test_model.get_latent_representation(test_model.adata)\n",
    "\n",
    "# Assign to the same subset\n",
    "test_model.adata.obsm[\"X_AUTOZI_test\"] = latent\n",
    "\n",
    "# Get denoised expression as a NumPy array\n",
    "denoised_expr = test_model.get_normalized_expression(library_size=10000, \n",
    "                                                                   batch_key = \"batch\"\n",
    "                                                                  )  # Normalized per 10,000 reads\n",
    "\n",
    "# Assign denoised expression as a new layer (ensure format is compatible with AnnData)\n",
    "test_model.adata.layers[\"denoised\"] = denoised_expr.values  # Convert DataFrame to NumPy array\n",
    "\n",
    "# Apply log1p transformation\n",
    "test_model.adata.layers[\"log_denoised\"] = np.log1p(test_model.adata.layers[\"denoised\"])"
   ]
  },
  {
   "cell_type": "code",
   "execution_count": null,
   "id": "4e61f2d8-39a3-4de0-ae73-d8874d3607e9",
   "metadata": {},
   "outputs": [],
   "source": [
    "# Assess how well T cell markers cluster together and away from other clusters\n",
    "sc.pl.umap(test_model.adata, color=['CD3D:ENSG00000167286', 'CD3E:ENSG00000198851', 'CD3G:ENSG00000160654'], layer = \"log_denoised\")"
   ]
  },
  {
   "cell_type": "code",
   "execution_count": null,
   "id": "d9b9fe28-1cf0-4226-bf1b-20acc9604e72",
   "metadata": {},
   "outputs": [],
   "source": [
    "# Assess how well T cell markers cluster away from other clusters\n",
    "# Genes of interest\n",
    "genes = ['CD3D:ENSG00000167286', 'CD3E:ENSG00000198851', 'CD3G:ENSG00000160654']\n",
    "\n",
    "# Calculate summed expression per cell\n",
    "test_model.adata.obs['CD3_Combined'] = test_model.adata[:, genes].X.toarray().sum(axis=1)\n",
    "\n",
    "# Plot UMAP\n",
    "fig = sc.pl.umap(\n",
    "    test_model.adata,\n",
    "    color='CD3_Combined',\n",
    "    cmap= \"coolwarm\",\n",
    "    frameon=True,\n",
    "    title=\"Total TCell Marker Expression\",\n",
    "    layer = \"log_denoised\",\n",
    "    vmin=(-(np.percentile(test_model.adata.obs['CD3_Combined'], 95))),\n",
    "    vmax=np.percentile(test_model.adata.obs['CD3_Combined'], 95),\n",
    "    show = True\n",
    ")"
   ]
  },
  {
   "cell_type": "code",
   "execution_count": null,
   "id": "e3b8ba80-d0f0-41c5-8377-bd3eee462915",
   "metadata": {},
   "outputs": [],
   "source": []
  },
  {
   "cell_type": "code",
   "execution_count": null,
   "id": "98f33c9f-5ddf-49a5-b869-a00e7d784193",
   "metadata": {},
   "outputs": [],
   "source": [
    "# === Load your MuData ===\n",
    "# (Assumes you already loaded it like this)\n",
    "adata = mdata_g_std.mod['rna']\n",
    "\n",
    "os.environ[\"OPENBLAS_NUM_THREADS\"] = \"127\"\n",
    "os.environ[\"OMP_NUM_THREADS\"] = \"127\"\n",
    "\n",
    "# === Run test ===\n",
    "test_model = run_autozi_test(\n",
    "    adata_full=adata,\n",
    "    subset_n=5000,\n",
    "    n_latent=40,\n",
    "    dropout_rate=0.4,\n",
    "    learning_rate=5e-3,\n",
    "    weight_decay=1e-2\n",
    ")"
   ]
  },
  {
   "cell_type": "code",
   "execution_count": null,
   "id": "5e8faa7e-8466-4174-afd4-976e403dc514",
   "metadata": {},
   "outputs": [],
   "source": [
    "# Access training history\n",
    "import matplotlib.pyplot as plt\n",
    "\n",
    "train_elbo = test_model.history['elbo_train']  # Dataset 1\n",
    "val_elbo = test_model.history['elbo_validation']  # Dataset 1\n",
    "\n",
    "# Print last few values\n",
    "print(\"Training ELBO gene-level:\", train_elbo[-10:])\n",
    "print(\"Validation ELBO gene-level:\", val_elbo[-10:])"
   ]
  },
  {
   "cell_type": "code",
   "execution_count": null,
   "id": "b89224e5-a61f-4724-b378-dec602877f6c",
   "metadata": {},
   "outputs": [],
   "source": [
    "plt.plot(train_elbo, label=\"Training ELBO\")\n",
    "plt.plot(val_elbo, label=\"Validation ELBO\")\n",
    "plt.xlabel(\"Epoch\")\n",
    "plt.ylabel(\"Negative ELBO\")\n",
    "plt.legend()\n",
    "plt.title(\"Training vs Validation Loss (ELBO) Gene-Level\")\n",
    "plt.show()"
   ]
  },
  {
   "cell_type": "code",
   "execution_count": null,
   "id": "9f55b810-553b-4ec6-9758-a5f0e44ccf0e",
   "metadata": {},
   "outputs": [],
   "source": [
    "# Use the same adata subset used to train `test_model`\n",
    "latent = test_model.get_latent_representation(test_model.adata)\n",
    "\n",
    "# Assign to the same subset\n",
    "test_model.adata.obsm[\"X_AUTOZI_test\"] = latent\n",
    "\n",
    "# Then UMAP\n",
    "sc.pp.neighbors(test_model.adata, use_rep=\"X_AUTOZI_test\")\n",
    "sc.tl.umap(test_model.adata)\n",
    "sc.pl.umap(test_model.adata, color=\"batch\", title=\"AUTOZI Latent - Batch Mixing\")\n",
    "\n",
    "from sklearn.metrics import silhouette_score\n",
    "print(silhouette_score(latent, test_model.adata.obs['batch']))"
   ]
  },
  {
   "cell_type": "code",
   "execution_count": null,
   "id": "6d049629-322a-4848-b741-3974d82de5a0",
   "metadata": {},
   "outputs": [],
   "source": [
    "from sklearn.neighbors import NearestNeighbors\n",
    "from scipy.stats import entropy\n",
    "import numpy as np\n",
    "\n",
    "X = latent\n",
    "labels = test_model.adata.obs['batch'].values\n",
    "\n",
    "n_neighbors = 30\n",
    "knn = NearestNeighbors(n_neighbors=n_neighbors + 1).fit(X)\n",
    "distances, indices = knn.kneighbors(X)\n",
    "\n",
    "batch_entropies = []\n",
    "for i in range(X.shape[0]):\n",
    "    neighbor_batches = labels[indices[i][1:]]  # exclude self\n",
    "    _, counts = np.unique(neighbor_batches, return_counts=True)\n",
    "    batch_entropies.append(entropy(counts))\n",
    "\n",
    "print(\"Mean entropy of batch mixing:\", np.mean(batch_entropies))"
   ]
  },
  {
   "cell_type": "code",
   "execution_count": null,
   "id": "f9f624f3-40c9-4966-ba7c-201238b1e2ef",
   "metadata": {},
   "outputs": [],
   "source": [
    "# Use the same adata subset used to train `test_model`\n",
    "latent = test_model.get_latent_representation(test_model.adata)\n",
    "\n",
    "# Assign to the same subset\n",
    "test_model.adata.obsm[\"X_AUTOZI_test\"] = latent\n",
    "\n",
    "# Get denoised expression as a NumPy array\n",
    "denoised_expr = test_model.get_normalized_expression(library_size=10000, \n",
    "                                                                   batch_key = \"batch\"\n",
    "                                                                  )  # Normalized per 10,000 reads\n",
    "\n",
    "# Assign denoised expression as a new layer (ensure format is compatible with AnnData)\n",
    "test_model.adata.layers[\"denoised\"] = denoised_expr.values  # Convert DataFrame to NumPy array\n",
    "\n",
    "# Apply log1p transformation\n",
    "test_model.adata.layers[\"log_denoised\"] = np.log1p(test_model.adata.layers[\"denoised\"])"
   ]
  },
  {
   "cell_type": "code",
   "execution_count": null,
   "id": "0428262f-80de-4f9a-98c0-23cc33de7136",
   "metadata": {},
   "outputs": [],
   "source": [
    "sc.pl.umap(test_model.adata, color=['CD3D:ENSG00000167286', 'CD3E:ENSG00000198851', 'CD3G:ENSG00000160654'], layer = \"log_denoised\")"
   ]
  },
  {
   "cell_type": "code",
   "execution_count": null,
   "id": "8943cb56-8ccd-4ba0-98cb-f6033d9748c2",
   "metadata": {},
   "outputs": [],
   "source": [
    "# Genes of interest\n",
    "genes = ['CD3D:ENSG00000167286', 'CD3E:ENSG00000198851', 'CD3G:ENSG00000160654']\n",
    "\n",
    "# Calculate summed expression per cell\n",
    "test_model.adata.obs['CD3_Combined'] = test_model.adata[:, genes].X.toarray().sum(axis=1)\n",
    "\n",
    "# Plot UMAP\n",
    "fig = sc.pl.umap(\n",
    "    test_model.adata,\n",
    "    color='CD3_Combined',\n",
    "    cmap= \"coolwarm\",\n",
    "    frameon=True,\n",
    "    title=\"Total TCell Marker Expression\",\n",
    "    layer = \"log_denoised\",\n",
    "    vmin=(-(np.percentile(test_model.adata.obs['CD3_Combined'], 95))),\n",
    "    vmax=np.percentile(test_model.adata.obs['CD3_Combined'], 95),\n",
    "    show = True\n",
    ")"
   ]
  },
  {
   "cell_type": "code",
   "execution_count": null,
   "id": "0642fb17-ae45-40bc-8028-4dcd7442767d",
   "metadata": {},
   "outputs": [],
   "source": []
  },
  {
   "cell_type": "code",
   "execution_count": null,
   "id": "32fed6dc-6b2a-447d-858f-c61b2aa195c4",
   "metadata": {},
   "outputs": [],
   "source": [
    "# === Load your MuData ===\n",
    "# (Assumes you already loaded it like this)\n",
    "adata = mdata_g_std.mod['rna']\n",
    "\n",
    "# === Run test ===\n",
    "test_model = run_autozi_test(\n",
    "    adata_full=adata,\n",
    "    subset_n=5000,\n",
    "    n_latent=50,\n",
    "    dropout_rate=0.4,\n",
    "    learning_rate=5e-3,\n",
    "    weight_decay=1e-2\n",
    ")\n",
    "\n"
   ]
  },
  {
   "cell_type": "code",
   "execution_count": null,
   "id": "8e6b8cde-6c12-473d-90c4-1bbc9f33b830",
   "metadata": {},
   "outputs": [],
   "source": [
    "# Access training history\n",
    "import matplotlib.pyplot as plt\n",
    "\n",
    "train_elbo = test_model.history['elbo_train']  # Dataset 1\n",
    "val_elbo = test_model.history['elbo_validation']  # Dataset 1\n",
    "\n",
    "# Print last few values\n",
    "print(\"Training ELBO gene-level:\", train_elbo[-10:])\n",
    "print(\"Validation ELBO gene-level:\", val_elbo[-10:])"
   ]
  },
  {
   "cell_type": "code",
   "execution_count": null,
   "id": "6e625ea8-b3ed-4661-80d5-69caffae8f3a",
   "metadata": {},
   "outputs": [],
   "source": [
    "plt.plot(train_elbo, label=\"Training ELBO\")\n",
    "plt.plot(val_elbo, label=\"Validation ELBO\")\n",
    "plt.xlabel(\"Epoch\")\n",
    "plt.ylabel(\"Negative ELBO\")\n",
    "plt.legend()\n",
    "plt.title(\"Training vs Validation Loss (ELBO) Gene-Level\")\n",
    "plt.show()"
   ]
  },
  {
   "cell_type": "code",
   "execution_count": null,
   "id": "0d327c21-061a-435d-b2cc-359742704e7b",
   "metadata": {},
   "outputs": [],
   "source": [
    "# Use the same adata subset used to train `test_model`\n",
    "latent = test_model.get_latent_representation(test_model.adata)\n",
    "\n",
    "# Assign to the same subset\n",
    "test_model.adata.obsm[\"X_AUTOZI_test\"] = latent\n",
    "\n",
    "# Then UMAP\n",
    "sc.pp.neighbors(test_model.adata, use_rep=\"X_AUTOZI_test\")\n",
    "sc.tl.umap(test_model.adata)\n",
    "sc.pl.umap(test_model.adata, color=\"batch\", title=\"AUTOZI Latent - Batch Mixing\")\n",
    "\n",
    "from sklearn.metrics import silhouette_score\n",
    "print(silhouette_score(latent, test_model.adata.obs['batch']))"
   ]
  },
  {
   "cell_type": "code",
   "execution_count": null,
   "id": "c8e1d9ef-3344-4dcc-bcf7-be340d0c5784",
   "metadata": {},
   "outputs": [],
   "source": [
    "from sklearn.neighbors import NearestNeighbors\n",
    "from scipy.stats import entropy\n",
    "import numpy as np\n",
    "\n",
    "X = latent\n",
    "labels = test_model.adata.obs['batch'].values\n",
    "\n",
    "n_neighbors = 30\n",
    "knn = NearestNeighbors(n_neighbors=n_neighbors + 1).fit(X)\n",
    "distances, indices = knn.kneighbors(X)\n",
    "\n",
    "batch_entropies = []\n",
    "for i in range(X.shape[0]):\n",
    "    neighbor_batches = labels[indices[i][1:]]  # exclude self\n",
    "    _, counts = np.unique(neighbor_batches, return_counts=True)\n",
    "    batch_entropies.append(entropy(counts))\n",
    "\n",
    "print(\"Mean entropy of batch mixing:\", np.mean(batch_entropies))"
   ]
  },
  {
   "cell_type": "code",
   "execution_count": null,
   "id": "3ca59068-4038-49ea-aadc-2de05b18ea00",
   "metadata": {},
   "outputs": [],
   "source": [
    "# Use the same adata subset used to train `test_model`\n",
    "latent = test_model.get_latent_representation(test_model.adata)\n",
    "\n",
    "# Assign to the same subset\n",
    "test_model.adata.obsm[\"X_AUTOZI_test\"] = latent\n",
    "\n",
    "# Get denoised expression as a NumPy array\n",
    "denoised_expr = test_model.get_normalized_expression(library_size=10000, \n",
    "                                                                   batch_key = \"batch\"\n",
    "                                                                  )  # Normalized per 10,000 reads\n",
    "\n",
    "# Assign denoised expression as a new layer (ensure format is compatible with AnnData)\n",
    "test_model.adata.layers[\"denoised\"] = denoised_expr.values  # Convert DataFrame to NumPy array\n",
    "\n",
    "# Apply log1p transformation\n",
    "test_model.adata.layers[\"log_denoised\"] = np.log1p(test_model.adata.layers[\"denoised\"])"
   ]
  },
  {
   "cell_type": "code",
   "execution_count": null,
   "id": "5dad238e-dabb-400e-9993-08c44bcac7b1",
   "metadata": {},
   "outputs": [],
   "source": [
    "# Then UMAP\n",
    "sc.pp.neighbors(test_model.adata, use_rep=\"X_AUTOZI_test\")\n",
    "sc.tl.umap(test_model.adata)"
   ]
  },
  {
   "cell_type": "code",
   "execution_count": null,
   "id": "97179815-39db-48c7-83ad-84fa51af3bc4",
   "metadata": {},
   "outputs": [],
   "source": [
    "sc.pl.umap(test_model.adata, color=['CD3D:ENSG00000167286', 'CD3E:ENSG00000198851', 'CD3G:ENSG00000160654'], layer = \"log_denoised\")"
   ]
  },
  {
   "cell_type": "code",
   "execution_count": null,
   "id": "9c301f30-919b-4d23-9851-160d744dbc29",
   "metadata": {},
   "outputs": [],
   "source": [
    "# Genes of interest\n",
    "genes = ['CD3D:ENSG00000167286', 'CD3E:ENSG00000198851', 'CD3G:ENSG00000160654']\n",
    "\n",
    "# Calculate summed expression per cell\n",
    "test_model.adata.obs['CD3_Combined'] = test_model.adata[:, genes].X.toarray().sum(axis=1)\n",
    "\n",
    "# Plot UMAP\n",
    "fig = sc.pl.umap(\n",
    "    test_model.adata,\n",
    "    color='CD3_Combined',\n",
    "    cmap= \"coolwarm\",\n",
    "    frameon=True,\n",
    "    title=\"Total TCell Marker Expression\",\n",
    "    layer = \"log_denoised\",\n",
    "    vmin=(-(np.percentile(test_model.adata.obs['CD3_Combined'], 100))),\n",
    "    vmax=np.percentile(test_model.adata.obs['CD3_Combined'], 100),\n",
    "    show = True\n",
    ")"
   ]
  },
  {
   "cell_type": "code",
   "execution_count": null,
   "id": "ea6384bf-11e2-4888-b2be-2251aa5d254e",
   "metadata": {},
   "outputs": [],
   "source": []
  },
  {
   "cell_type": "code",
   "execution_count": null,
   "id": "261d8b9a-dd43-47b7-953a-1918e810dd59",
   "metadata": {},
   "outputs": [],
   "source": [
    "# === Load your MuData ===\n",
    "# (Assumes you already loaded it like this)\n",
    "adata = mdata_g_std.mod['rna']\n",
    "\n",
    "# === Run test ===\n",
    "test_model = run_autozi_test(\n",
    "    adata_full=adata,\n",
    "    subset_n=5000,\n",
    "    n_latent=40,\n",
    "    dropout_rate=0.4,\n",
    "    learning_rate=5e-3,\n",
    "    weight_decay=1e-2\n",
    ")"
   ]
  },
  {
   "cell_type": "code",
   "execution_count": null,
   "id": "1d36d3bb-d4ad-41a6-97ae-4aa3be8db994",
   "metadata": {},
   "outputs": [],
   "source": [
    "# Access training history\n",
    "import matplotlib.pyplot as plt\n",
    "\n",
    "train_elbo = test_model.history['elbo_train']  # Dataset 1\n",
    "val_elbo = test_model.history['elbo_validation']  # Dataset 1\n",
    "\n",
    "# Print last few values\n",
    "print(\"Training ELBO gene-level:\", train_elbo[-10:])\n",
    "print(\"Validation ELBO gene-level:\", val_elbo[-10:])"
   ]
  },
  {
   "cell_type": "code",
   "execution_count": null,
   "id": "e43062f7-ec1e-4433-9bdf-574525d06ff0",
   "metadata": {},
   "outputs": [],
   "source": [
    "plt.plot(train_elbo, label=\"Training ELBO\")\n",
    "plt.plot(val_elbo, label=\"Validation ELBO\")\n",
    "plt.xlabel(\"Epoch\")\n",
    "plt.ylabel(\"Negative ELBO\")\n",
    "plt.legend()\n",
    "plt.title(\"Training vs Validation Loss (ELBO) Gene-Level\")\n",
    "plt.show()"
   ]
  },
  {
   "cell_type": "code",
   "execution_count": null,
   "id": "b8d04ebb-f8bd-473e-9a57-88c071e266e4",
   "metadata": {},
   "outputs": [],
   "source": [
    "# Use the same adata subset used to train `test_model`\n",
    "latent = test_model.get_latent_representation(test_model.adata)\n",
    "\n",
    "# Assign to the same subset\n",
    "test_model.adata.obsm[\"X_AUTOZI_test\"] = latent\n",
    "\n",
    "# Then UMAP\n",
    "sc.pp.neighbors(test_model.adata, use_rep=\"X_AUTOZI_test\")\n",
    "sc.tl.umap(test_model.adata)\n",
    "sc.pl.umap(test_model.adata, color=\"batch\", title=\"AUTOZI Latent - Batch Mixing\")\n",
    "\n",
    "from sklearn.metrics import silhouette_score\n",
    "print(silhouette_score(latent, test_model.adata.obs['batch']))"
   ]
  },
  {
   "cell_type": "code",
   "execution_count": null,
   "id": "d8ecd0c7-4402-4cee-9aea-fd22c1846df6",
   "metadata": {},
   "outputs": [],
   "source": [
    "from sklearn.neighbors import NearestNeighbors\n",
    "from scipy.stats import entropy\n",
    "import numpy as np\n",
    "\n",
    "X = latent\n",
    "labels = test_model.adata.obs['batch'].values\n",
    "\n",
    "n_neighbors = 30\n",
    "knn = NearestNeighbors(n_neighbors=n_neighbors + 1).fit(X)\n",
    "distances, indices = knn.kneighbors(X)\n",
    "\n",
    "batch_entropies = []\n",
    "for i in range(X.shape[0]):\n",
    "    neighbor_batches = labels[indices[i][1:]]  # exclude self\n",
    "    _, counts = np.unique(neighbor_batches, return_counts=True)\n",
    "    batch_entropies.append(entropy(counts))\n",
    "\n",
    "print(\"Mean entropy of batch mixing:\", np.mean(batch_entropies))"
   ]
  },
  {
   "cell_type": "code",
   "execution_count": null,
   "id": "d1ba5d1f-12f7-4ddc-9f36-33a559b167f1",
   "metadata": {},
   "outputs": [],
   "source": [
    "# Use the same adata subset used to train `test_model`\n",
    "latent = test_model.get_latent_representation(test_model.adata)\n",
    "\n",
    "# Assign to the same subset\n",
    "test_model.adata.obsm[\"X_AUTOZI_test\"] = latent\n",
    "\n",
    "# Get denoised expression as a NumPy array\n",
    "denoised_expr = test_model.get_normalized_expression(library_size=10000, \n",
    "                                                                   batch_key = \"batch\"\n",
    "                                                                  )  # Normalized per 10,000 reads\n",
    "\n",
    "# Assign denoised expression as a new layer (ensure format is compatible with AnnData)\n",
    "test_model.adata.layers[\"denoised\"] = denoised_expr.values  # Convert DataFrame to NumPy array\n",
    "\n",
    "# Apply log1p transformation\n",
    "test_model.adata.layers[\"log_denoised\"] = np.log1p(test_model.adata.layers[\"denoised\"])"
   ]
  },
  {
   "cell_type": "code",
   "execution_count": null,
   "id": "ebb36dee-7b93-4815-a940-858bedfdc1d0",
   "metadata": {},
   "outputs": [],
   "source": [
    "# Then UMAP\n",
    "sc.pp.neighbors(test_model.adata, use_rep=\"X_AUTOZI_test\")\n",
    "sc.tl.umap(test_model.adata)"
   ]
  },
  {
   "cell_type": "code",
   "execution_count": null,
   "id": "c67cd9d4-2452-4fe5-997b-3272fe772897",
   "metadata": {},
   "outputs": [],
   "source": [
    "sc.pl.umap(test_model.adata, color=['CD3D:ENSG00000167286', 'CD3E:ENSG00000198851', 'CD3G:ENSG00000160654'], layer = \"log_denoised\")"
   ]
  },
  {
   "cell_type": "code",
   "execution_count": null,
   "id": "aea65471-f5a1-4c6d-881c-f8c5f50df917",
   "metadata": {},
   "outputs": [],
   "source": [
    "# Genes of interest\n",
    "genes = ['CD3D:ENSG00000167286', 'CD3E:ENSG00000198851', 'CD3G:ENSG00000160654']\n",
    "\n",
    "# Calculate summed expression per cell\n",
    "test_model.adata.obs['CD3_Combined'] = test_model.adata[:, genes].X.toarray().sum(axis=1)\n",
    "\n",
    "# Plot UMAP\n",
    "fig = sc.pl.umap(\n",
    "    test_model.adata,\n",
    "    color='CD3_Combined',\n",
    "    cmap= \"coolwarm\",\n",
    "    frameon=True,\n",
    "    title=\"Total TCell Marker Expression\",\n",
    "    layer = \"log_denoised\",\n",
    "    vmin=(-(np.percentile(test_model.adata.obs['CD3_Combined'], 95))),\n",
    "    vmax=np.percentile(test_model.adata.obs['CD3_Combined'], 95),\n",
    "    show = True\n",
    ")"
   ]
  },
  {
   "cell_type": "code",
   "execution_count": null,
   "id": "67ae3cc2-edb3-4fb5-8b40-e44247bf9caf",
   "metadata": {},
   "outputs": [],
   "source": []
  },
  {
   "cell_type": "code",
   "execution_count": null,
   "id": "1708bd78-b460-47e6-b5ed-b89049529d10",
   "metadata": {},
   "outputs": [],
   "source": [
    "# === Load your MuData ===\n",
    "# (Assumes you already loaded it like this)\n",
    "adata = mdata_g_std.mod['rna']\n",
    "\n",
    "# === Run test ===\n",
    "test_model = run_autozi_test(\n",
    "    adata_full=adata,\n",
    "    subset_n=5000,\n",
    "    n_latent=40,\n",
    "    dropout_rate=0.3,\n",
    "    learning_rate=5e-3,\n",
    "    weight_decay=1e-2\n",
    ")"
   ]
  },
  {
   "cell_type": "code",
   "execution_count": null,
   "id": "86351f2d-577c-4a97-90df-8d9036609dcb",
   "metadata": {},
   "outputs": [],
   "source": [
    "# Access training history\n",
    "import matplotlib.pyplot as plt\n",
    "\n",
    "train_elbo = test_model.history['elbo_train']  # Dataset 1\n",
    "val_elbo = test_model.history['elbo_validation']  # Dataset 1\n",
    "\n",
    "# Print last few values\n",
    "print(\"Training ELBO gene-level:\", train_elbo[-10:])\n",
    "print(\"Validation ELBO gene-level:\", val_elbo[-10:])"
   ]
  },
  {
   "cell_type": "code",
   "execution_count": null,
   "id": "d4048f63-3403-4984-9d0b-a8b8d3099e73",
   "metadata": {},
   "outputs": [],
   "source": [
    "plt.plot(train_elbo, label=\"Training ELBO\")\n",
    "plt.plot(val_elbo, label=\"Validation ELBO\")\n",
    "plt.xlabel(\"Epoch\")\n",
    "plt.ylabel(\"Negative ELBO\")\n",
    "plt.legend()\n",
    "plt.title(\"Training vs Validation Loss (ELBO) Gene-Level\")\n",
    "plt.show()"
   ]
  },
  {
   "cell_type": "code",
   "execution_count": null,
   "id": "08296f59-ce8d-41ff-b741-af6fb95da69f",
   "metadata": {},
   "outputs": [],
   "source": [
    "# Use the same adata subset used to train `test_model`\n",
    "latent = test_model.get_latent_representation(test_model.adata)\n",
    "\n",
    "# Assign to the same subset\n",
    "test_model.adata.obsm[\"X_AUTOZI_test\"] = latent\n",
    "\n",
    "# Then UMAP\n",
    "sc.pp.neighbors(test_model.adata, use_rep=\"X_AUTOZI_test\")\n",
    "sc.tl.umap(test_model.adata)\n",
    "sc.pl.umap(test_model.adata, color=\"batch\", title=\"AUTOZI Latent - Batch Mixing\")\n",
    "\n",
    "from sklearn.metrics import silhouette_score\n",
    "print(silhouette_score(latent, test_model.adata.obs['batch']))"
   ]
  },
  {
   "cell_type": "code",
   "execution_count": null,
   "id": "32e88c15-1426-4a90-856c-d18130251de8",
   "metadata": {},
   "outputs": [],
   "source": [
    "from sklearn.neighbors import NearestNeighbors\n",
    "from scipy.stats import entropy\n",
    "import numpy as np\n",
    "\n",
    "X = latent\n",
    "labels = test_model.adata.obs['batch'].values\n",
    "\n",
    "n_neighbors = 30\n",
    "knn = NearestNeighbors(n_neighbors=n_neighbors + 1).fit(X)\n",
    "distances, indices = knn.kneighbors(X)\n",
    "\n",
    "batch_entropies = []\n",
    "for i in range(X.shape[0]):\n",
    "    neighbor_batches = labels[indices[i][1:]]  # exclude self\n",
    "    _, counts = np.unique(neighbor_batches, return_counts=True)\n",
    "    batch_entropies.append(entropy(counts))\n",
    "\n",
    "print(\"Mean entropy of batch mixing:\", np.mean(batch_entropies))"
   ]
  },
  {
   "cell_type": "code",
   "execution_count": null,
   "id": "d45ba505-405d-458d-8311-1362be00c980",
   "metadata": {},
   "outputs": [],
   "source": [
    "# Use the same adata subset used to train `test_model`\n",
    "latent = test_model.get_latent_representation(test_model.adata)\n",
    "\n",
    "# Assign to the same subset\n",
    "test_model.adata.obsm[\"X_AUTOZI_test\"] = latent\n",
    "\n",
    "# Get denoised expression as a NumPy array\n",
    "denoised_expr = test_model.get_normalized_expression(library_size=10000, \n",
    "                                                                   batch_key = \"batch\"\n",
    "                                                                  )  # Normalized per 10,000 reads\n",
    "\n",
    "# Assign denoised expression as a new layer (ensure format is compatible with AnnData)\n",
    "test_model.adata.layers[\"denoised\"] = denoised_expr.values  # Convert DataFrame to NumPy array\n",
    "\n",
    "# Apply log1p transformation\n",
    "test_model.adata.layers[\"log_denoised\"] = np.log1p(test_model.adata.layers[\"denoised\"])"
   ]
  },
  {
   "cell_type": "code",
   "execution_count": null,
   "id": "6c016735-e41f-4f56-8dad-9c23b25fe65a",
   "metadata": {},
   "outputs": [],
   "source": [
    "# Then UMAP\n",
    "sc.pp.neighbors(test_model.adata, use_rep=\"X_AUTOZI_test\")\n",
    "sc.tl.umap(test_model.adata)"
   ]
  },
  {
   "cell_type": "code",
   "execution_count": null,
   "id": "b8581c98-8446-45fc-8a1b-c05e8b900dd7",
   "metadata": {},
   "outputs": [],
   "source": [
    "sc.pl.umap(test_model.adata, color=['CD3D:ENSG00000167286', 'CD3E:ENSG00000198851', 'CD3G:ENSG00000160654'], layer = \"log_denoised\")"
   ]
  },
  {
   "cell_type": "code",
   "execution_count": null,
   "id": "93a70279-ba80-4991-b403-612bc0431984",
   "metadata": {},
   "outputs": [],
   "source": [
    "# Genes of interest\n",
    "genes = ['CD3D:ENSG00000167286', 'CD3E:ENSG00000198851', 'CD3G:ENSG00000160654']\n",
    "\n",
    "# Calculate summed expression per cell\n",
    "test_model.adata.obs['CD3_Combined'] = test_model.adata[:, genes].X.toarray().sum(axis=1)\n",
    "\n",
    "# Plot UMAP\n",
    "fig = sc.pl.umap(\n",
    "    test_model.adata,\n",
    "    color='CD3_Combined',\n",
    "    cmap= \"coolwarm\",\n",
    "    frameon=True,\n",
    "    title=\"Total TCell Marker Expression\",\n",
    "    layer = \"log_denoised\",\n",
    "    vmin=(-(np.percentile(test_model.adata.obs['CD3_Combined'], 95))),\n",
    "    vmax=np.percentile(test_model.adata.obs['CD3_Combined'], 95),\n",
    "    show = True\n",
    ")"
   ]
  }
 ],
 "metadata": {
  "kernelspec": {
   "display_name": "Python 3 (ipykernel)",
   "language": "python",
   "name": "python3"
  },
  "language_info": {
   "codemirror_mode": {
    "name": "ipython",
    "version": 3
   },
   "file_extension": ".py",
   "mimetype": "text/x-python",
   "name": "python",
   "nbconvert_exporter": "python",
   "pygments_lexer": "ipython3",
   "version": "3.10.13"
  },
  "widgets": {
   "application/vnd.jupyter.widget-state+json": {
    "state": {},
    "version_major": 2,
    "version_minor": 0
   }
  }
 },
 "nbformat": 4,
 "nbformat_minor": 5
}
