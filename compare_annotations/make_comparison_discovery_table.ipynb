{
 "cells": [
  {
   "cell_type": "markdown",
   "id": "d9928c02",
   "metadata": {},
   "source": [
    "# Import libraries and define functions + Initial setup"
   ]
  },
  {
   "cell_type": "code",
   "execution_count": 1,
   "id": "2e7c2845",
   "metadata": {},
   "outputs": [],
   "source": [
    "## Import Libraries\n",
    "import pandas as pd\n",
    "import numpy as np\n",
    "from matplotlib import pyplot as plt\n",
    "%matplotlib inline\n",
    "import seaborn as sns\n",
    "import csv\n",
    "\n",
    "\n",
    "## Display all rows of pandas dataframes\n",
    "pd.set_option('display.max_rows', None)\n",
    "pd.set_option('display.max_colwidth', None)"
   ]
  },
  {
   "cell_type": "code",
   "execution_count": 2,
   "id": "f27e634a",
   "metadata": {},
   "outputs": [],
   "source": [
    "'''\n",
    "name: relative_transcript_abundance\n",
    "\n",
    "purpose: calculate relative transcript abundance\n",
    "\n",
    "input: a dataframe with a ref_gene_id column identifying the transcript gene of origin and a cov columns with \n",
    "the coverage for the transcripts.\n",
    "\n",
    "output: the same dataframe with a relative abundance column added\n",
    "'''\n",
    "\n",
    "\n",
    "\n",
    "def relative_transcript_abundance(df):\n",
    "    \n",
    "    ## Group by gene_id and get total expression for each gene (not counting introns)\n",
    "    df_sums = df[[\"gene_id\", \"total_CPM\"]].groupby(\"gene_id\").sum()\n",
    "    df_sums[\"total_CPM_gene\"] = df_sums[\"total_CPM\"]\n",
    "    df_sums.drop(columns=\"total_CPM\", inplace=True)\n",
    "    \n",
    "    ## Merge dataframe with total gene level CPM with regular transcript level CPM dataframe\n",
    "    merged_df = pd.merge(df, df_sums, how='inner', on=\"gene_id\")\n",
    "    \n",
    "    ## Calculater relative percent abundance for each transcript within its gene\n",
    "    merged_df[\"relative_abundance_percent\"] = ((merged_df[\"total_CPM\"]/merged_df[\"total_CPM_gene\"]) * 100)\n",
    "    \n",
    "    ## Rename total_CPM for transcript column\n",
    "    merged_df[\"total_CPM_transcript\"] = merged_df[\"total_CPM\"]\n",
    "    merged_df.drop(columns=\"total_CPM\", inplace=True)\n",
    "\n",
    "\n",
    "    return merged_df"
   ]
  },
  {
   "cell_type": "code",
   "execution_count": 3,
   "id": "a6446e95",
   "metadata": {},
   "outputs": [],
   "source": [
    "'''\n",
    "function name: fix_column_names\n",
    "\n",
    "purpose: Fixing the column names, making them smaller, informative, and consistent\n",
    "\n",
    "input: The raw counts dataframe for either genes or transcripts \n",
    "\n",
    "output: Same dataframe with improved column names\n",
    "'''\n",
    "\n",
    "def fix_column_names(df, is_gene=False):\n",
    "    \n",
    "    ## Check if this is a gene counts object\n",
    "    if is_gene:\n",
    "        \n",
    "        ## Get count column names and create list of new column names\n",
    "        count_columns = df.columns.tolist()\n",
    "        list_new_names = [\"gene_id\"]\n",
    "        \n",
    "        ## gene_id comes in as index for gene counts data, make it into the first column instead\n",
    "        df[\"gene_id\"] = df.index\n",
    "        cols = list(df.columns)\n",
    "        cols = [cols[-1]] + cols[:-1]\n",
    "        df = df[cols]\n",
    "        df.reset_index(inplace=True, drop=True)\n",
    "    \n",
    "    ## If it is a transcript dataset\n",
    "    else:\n",
    "        ## Set count columns and create list of new names\n",
    "        count_columns = df.columns[2:].tolist()\n",
    "        list_new_names = [ \"transcript_id\", \"gene_id\"]\n",
    "    \n",
    "    ## Fix names one by one and add to list of new names\n",
    "    for col in count_columns:\n",
    "        col = col.split(\"_mapped\")[0] + \"_counts\"\n",
    "        list_new_names.append(col)\n",
    "    \n",
    "    ## Rename columns\n",
    "    df.columns = list_new_names\n",
    "    \n",
    "    return df "
   ]
  },
  {
   "cell_type": "code",
   "execution_count": 4,
   "id": "143176a3",
   "metadata": {},
   "outputs": [],
   "source": [
    "'''\n",
    "function name: parse_df_columns\n",
    "\n",
    "purpose: parsing the last aggregate column of the gtf/gff3 into useful columns and cleaning non-relevant columns\n",
    "\n",
    "input: dataframe containining \"raw\" gtf/gff\n",
    "\n",
    "output: dataframe containing gtf with useful columns [\"gene_id\", \"transcript_id\", etc...]\n",
    "'''\n",
    "\n",
    "def parse_df_columns(df, is_ref=True, is_transcript=False, is_prot=False, delete_other=True):\n",
    "\n",
    "    if is_ref:\n",
    "\n",
    "        ## Get gene ids\n",
    "        df[\"gene_id\"] = df[\"other\"].str.split('\";', expand=True)[0].str.extract(\"([^ \\\"]*$)\", expand=True)\n",
    "        \n",
    "        ## Get gene names\n",
    "        df[\"gene_name\"] = df[\"other\"].str.split(\"gene_name \\\"\", expand=True)[1].str.split('\\\";', expand=True)[0]\n",
    "        \n",
    "        ## Get get transcript biotype\n",
    "        df[\"gene_biotype\"] = df[\"other\"].str.split('gene_biotype \"', expand=True)[1].str.split('\"', expand=True)[0]\n",
    "        \n",
    "        ## If is transcript get transcript id and transcript biotype\n",
    "        if is_transcript:\n",
    "            df[\"transcript_id\"] = df[\"other\"].str.split('transcript_id \"', expand=True)[1].str.split('\"', expand=True)[0]\n",
    "            df[\"transcript_biotype\"] = df[\"other\"].str.split('transcript_biotype \"', expand=True)[1].str.split('\"', expand=True)[0]\n",
    "            \n",
    "            ## If is prot get protein_id\n",
    "            if is_prot:\n",
    "                df[\"protein_id\"] = df[\"other\"].str.split('protein_id \"', expand=True)[1].str.split('\"', expand=True)[0]\n",
    "                df[\"ccds_id\"] = df[\"other\"].str.split('ccds_id \"', expand=True)[1].str.split('\"', expand=True)[0]\n",
    "                df[\"exon_number\"] = df[\"other\"].str.split('exon_number \"', expand=True)[1].str.split('\"', expand=True)[0]\n",
    "\n",
    "        ## Drop \"other\" column\n",
    "        df.drop(columns=[\"other\", \"dot_1\", \"dot_2\"], inplace=True)\n",
    "        \n",
    "\n",
    "    else:\n",
    "\n",
    "        ## Get gene ids\n",
    "        df[\"gene_id\"] = df[\"other\"].str.split('\";', expand=True)[0].str.extract(\"([^ \\\"]*$)\", expand=True)\n",
    "\n",
    "        ## Get transcript ids\n",
    "        df[\"transcript_id\"] = df[\"other\"].str.split('transcript_id \"', expand=True)[1].str.split('\"', expand=True)[0]\n",
    "\n",
    "        ## Get exon number\n",
    "        df[\"exon_number\"] = df[\"other\"].str.split('exon_number \"', expand=True)[1].str.split('\"', expand=True)[0]\n",
    "\n",
    "        ## Drop \"other\" column\n",
    "        if delete_other:\n",
    "            df.drop(columns=[\"other\", \"dot_1\", \"dot_2\"], inplace=True)\n",
    "\n",
    "    for col in df.columns:\n",
    "        df.loc[df[col].isnull(), col] = np.NaN\n",
    "        \n",
    "\n",
    "    return df"
   ]
  },
  {
   "cell_type": "code",
   "execution_count": 5,
   "id": "b1117a08",
   "metadata": {},
   "outputs": [],
   "source": [
    "'''\n",
    "function name: calculate_cpm\n",
    "\n",
    "purpose: Calculate CPM for the each sample given\n",
    "\n",
    "input: Counts dataset\n",
    "\n",
    "output: Counts dataset with CPM columns as well\n",
    "'''\n",
    "\n",
    "def calculate_cpm(df, is_gene=False):\n",
    "\n",
    "    ## Set count columns if dataframe is gene counts\n",
    "    if is_gene:\n",
    "        count_columns = df.columns[1:].tolist()\n",
    "    \n",
    "    ## Set count columns if dataframe is transcript counts\n",
    "    else:\n",
    "        count_columns = df.columns[2:].tolist()\n",
    "\n",
    "    ## Loop through counts columns to calculate CPM and add to the dataframe\n",
    "    for col in count_columns:\n",
    "        \n",
    "        df[col] = round(df[col], 2)\n",
    "        cpm_name = col.replace(\"_counts\", \"_CPM\")\n",
    "        df[cpm_name] = round(((df[col]/(df[col].sum())) * 1000000), 2)\n",
    "    \n",
    "    return df  "
   ]
  },
  {
   "cell_type": "code",
   "execution_count": 6,
   "id": "59f349db",
   "metadata": {},
   "outputs": [],
   "source": [
    "## Open original reference\n",
    "original_ref = pd.read_csv(\"../references/Homo_sapiens.GRCh38.113.gtf\", header=None, delimiter=\"\\t\", low_memory=False, \n",
    "                       names=[\"chr\", \"source\", \"type\", \"start\", \"end\", \"dot_1\", \"strand\", \"dot_2\", \"other\"], comment=\"#\")\n",
    "\n",
    "## Parse through reference to get gene names and ids\n",
    "orig_ref = original_ref.loc[original_ref[\"type\"]==\"gene\"].copy()\n",
    "orig_ref = parse_df_columns(orig_ref, is_ref=True)"
   ]
  },
  {
   "cell_type": "code",
   "execution_count": 7,
   "id": "bc7759e7-fd90-4801-b857-bab1fad90084",
   "metadata": {},
   "outputs": [],
   "source": [
    "## Open extended reference to get new gene chromosomes\n",
    "extended_ref = pd.read_csv(\"../references/extended_annotations.gtf\", header=None, delimiter=\"\\t\", low_memory=False, \n",
    "                       names=[\"chr\", \"source\", \"type\", \"start\", \"end\", \"dot_1\", \"strand\", \"dot_2\", \"other\"], comment=\"#\")\n",
    "\n",
    "## Parse through reference to get gene names and ids\n",
    "ext_ref = parse_df_columns(extended_ref, is_ref=False)\n",
    "ext_ref = ext_ref.loc[ext_ref[\"gene_id\"].str.contains(\"Bambu\")][[\"gene_id\", \"chr\"]]"
   ]
  },
  {
   "cell_type": "code",
   "execution_count": 8,
   "id": "ee2d258f-96eb-4866-8050-8f1a83b9e6eb",
   "metadata": {},
   "outputs": [],
   "source": [
    "reference_key = orig_ref[[\"gene_id\", \"gene_name\", \"chr\"]].merge(ext_ref, on=[\"gene_id\", \"chr\"], how=\"outer\")"
   ]
  },
  {
   "cell_type": "code",
   "execution_count": 9,
   "id": "a9295678",
   "metadata": {},
   "outputs": [],
   "source": [
    "glinos_comp = pd.read_csv(\"../references/Our_SC_vs_glinos_annotation.tracking\", sep=\"\\t\", header=None, usecols=[2,3,4],\n",
    "                         names=[\"glinos\", \"category_glinos\", \"ours\"])\n",
    "glinos_comp_our_new_only = glinos_comp.loc[glinos_comp[\"ours\"].str.contains(\"Bambu\")]"
   ]
  },
  {
   "cell_type": "code",
   "execution_count": 10,
   "id": "73f30dec",
   "metadata": {},
   "outputs": [],
   "source": [
    "leung_comp = pd.read_csv(\"../references/Our_SC_vs_leung_annotation.tracking\", sep=\"\\t\", header=None, usecols=[2,3,4],\n",
    "                         names=[\"leung\", \"category_leung\", \"ours\"])\n",
    "leung_comp_our_new_only = leung_comp.loc[leung_comp[\"ours\"].str.contains(\"Bambu\")]"
   ]
  },
  {
   "cell_type": "code",
   "execution_count": 11,
   "id": "2aeb768a-faeb-4979-9895-7be131e05fb8",
   "metadata": {},
   "outputs": [],
   "source": [
    "heberle_comp = pd.read_csv(\"../references/Our_SC_vs_heberle_annotation.tracking\", sep=\"\\t\", header=None, usecols=[2,3,4],\n",
    "                         names=[\"heberle\", \"category_heberle\", \"ours\"])\n",
    "heberle_comp_our_new_only = heberle_comp.loc[heberle_comp[\"ours\"].str.contains(\"Bambu\")]"
   ]
  },
  {
   "cell_type": "code",
   "execution_count": 12,
   "id": "d5f9638e-797e-4660-9e54-032dec9fa0c0",
   "metadata": {},
   "outputs": [],
   "source": [
    "df = heberle_comp_our_new_only.merge(glinos_comp_our_new_only, on=\"ours\", how=\"outer\") # inner was used before\n",
    "df = df.merge(leung_comp_our_new_only, on=\"ours\", how=\"outer\")"
   ]
  },
  {
   "cell_type": "code",
   "execution_count": 13,
   "id": "dceea434",
   "metadata": {},
   "outputs": [],
   "source": [
    "df.loc[df[\"category_heberle\"] == \"=\", \"is_in_heberle\"] = True\n",
    "df.loc[df[\"category_heberle\"] != \"=\", \"is_in_heberle\"] = False"
   ]
  },
  {
   "cell_type": "code",
   "execution_count": 14,
   "id": "2e674cf7-0c8e-4e82-a298-dd49a499edda",
   "metadata": {},
   "outputs": [],
   "source": [
    "df.loc[df[\"category_glinos\"] == \"=\", \"is_in_glinos\"] = True\n",
    "df.loc[df[\"category_glinos\"] != \"=\", \"is_in_glinos\"] = False"
   ]
  },
  {
   "cell_type": "code",
   "execution_count": 15,
   "id": "5c0e5f9b",
   "metadata": {},
   "outputs": [],
   "source": [
    "df.loc[df[\"category_leung\"] == \"=\", \"is_in_leung\"] = True\n",
    "df.loc[df[\"category_leung\"] != \"=\", \"is_in_leung\"] = False"
   ]
  },
  {
   "cell_type": "code",
   "execution_count": 16,
   "id": "3b716394",
   "metadata": {},
   "outputs": [],
   "source": [
    "df.loc[((df[\"is_in_heberle\"] == True) & (df[\"is_in_glinos\"] == True) & (df[\"is_in_leung\"] == True)), \"is_in_all\"] = True\n",
    "df.loc[~((df[\"is_in_heberle\"] == True) & (df[\"is_in_glinos\"] == True) & (df[\"is_in_leung\"] == True)), \"is_in_all\"] = False"
   ]
  },
  {
   "cell_type": "code",
   "execution_count": 17,
   "id": "0fcb115b",
   "metadata": {},
   "outputs": [],
   "source": [
    "df.loc[((df[\"is_in_heberle\"] == True) | (df[\"is_in_glinos\"] == True) | (df[\"is_in_leung\"] == True)), \"is_in_any\"] = True\n",
    "df.loc[~((df[\"is_in_heberle\"] == True) | (df[\"is_in_glinos\"] == True) | (df[\"is_in_leung\"] == True)), \"is_in_any\"] = False"
   ]
  },
  {
   "cell_type": "code",
   "execution_count": 18,
   "id": "ae9b895b",
   "metadata": {},
   "outputs": [],
   "source": [
    "df[\"gene_id\"] = df[\"ours\"].str.split(\":\", expand=True)[1].str.split(\"|\", expand=True)[0]\n",
    "df[\"transcript_id\"] = df[\"ours\"].str.split(\":\", expand=True)[1].str.split(\"|\", expand=True)[1]"
   ]
  },
  {
   "cell_type": "code",
   "execution_count": 19,
   "id": "40d914a9",
   "metadata": {},
   "outputs": [],
   "source": [
    "df = df.merge(reference_key.drop_duplicates(), on=\"gene_id\", how=\"left\")"
   ]
  },
  {
   "cell_type": "code",
   "execution_count": 20,
   "id": "a48ece26",
   "metadata": {},
   "outputs": [],
   "source": [
    "df_new_from_new = df.loc[df[\"gene_id\"].str.contains(\"BambuGene\")].copy()\n",
    "\n",
    "df_new_from_known = df.loc[~df[\"gene_id\"].str.contains(\"BambuGene\")].copy() "
   ]
  },
  {
   "cell_type": "code",
   "execution_count": 21,
   "id": "34a3232b",
   "metadata": {},
   "outputs": [],
   "source": [
    "df_new_from_known_nuclear = df_new_from_known.loc[df_new_from_known[\"chr\"] != \"MT\"].copy()\n",
    "df_new_from_known_mito = df_new_from_known.loc[df_new_from_known[\"chr\"] == \"MT\"].copy()"
   ]
  },
  {
   "cell_type": "code",
   "execution_count": 22,
   "id": "ad4c32d5",
   "metadata": {},
   "outputs": [
    {
     "name": "stdout",
     "output_type": "stream",
     "text": [
      "Number of new from known genes nuclear genes: 54\n",
      "Not exclusive to ours: 10\n",
      "Exclusive to ours: 44\n",
      "Found in Leung: 5\n",
      "Found in Glinos: 3\n",
      "Found in Heberle: 9\n",
      "Found in All: 2\n"
     ]
    }
   ],
   "source": [
    "print(\"Number of new from known genes nuclear genes:\", df_new_from_known_nuclear.shape[0])\n",
    "print(\"Not exclusive to ours:\", df_new_from_known_nuclear.loc[df_new_from_known_nuclear[\"is_in_any\"] == True].shape[0])\n",
    "print(\"Exclusive to ours:\", df_new_from_known_nuclear.loc[df_new_from_known_nuclear[\"is_in_any\"] == False].shape[0])\n",
    "print(\"Found in Leung:\", df_new_from_known_nuclear.loc[df_new_from_known_nuclear[\"is_in_leung\"] == True].shape[0])\n",
    "print(\"Found in Glinos:\", df_new_from_known_nuclear.loc[df_new_from_known_nuclear[\"is_in_glinos\"] == True].shape[0])\n",
    "print(\"Found in Heberle:\", df_new_from_known_nuclear.loc[df_new_from_known_nuclear[\"is_in_heberle\"] == True].shape[0])\n",
    "print(\"Found in All:\", df_new_from_known_nuclear.loc[df_new_from_known_nuclear[\"is_in_all\"] == True].shape[0])"
   ]
  },
  {
   "cell_type": "code",
   "execution_count": 23,
   "id": "7abd8006",
   "metadata": {},
   "outputs": [
    {
     "name": "stdout",
     "output_type": "stream",
     "text": [
      "Number of new isoforms from known mito genes: 0\n",
      "Not exclusive to ours: 0\n",
      "Exclusive to ours: 0\n",
      "Found in Leung: 0\n",
      "Found in Glinos: 0\n",
      "Found in Heberle: 0\n",
      "Found in All: 0\n"
     ]
    }
   ],
   "source": [
    "print(\"Number of new isoforms from known mito genes:\", df_new_from_known_mito.shape[0])\n",
    "print(\"Not exclusive to ours:\", df_new_from_known_mito.loc[df_new_from_known_mito[\"is_in_any\"] == True].shape[0])\n",
    "print(\"Exclusive to ours:\", df_new_from_known_mito.loc[df_new_from_known_mito[\"is_in_any\"] == False].shape[0])\n",
    "print(\"Found in Leung:\", df_new_from_known_mito.loc[df_new_from_known_mito[\"is_in_leung\"] == True].shape[0])\n",
    "print(\"Found in Glinos:\", df_new_from_known_mito.loc[df_new_from_known_mito[\"is_in_glinos\"] == True].shape[0])\n",
    "print(\"Found in Heberle:\", df_new_from_known_mito.loc[df_new_from_known_mito[\"is_in_heberle\"] == True].shape[0])\n",
    "print(\"Found in All:\", df_new_from_known_mito.loc[df_new_from_known_mito[\"is_in_all\"] == True].shape[0])"
   ]
  },
  {
   "cell_type": "code",
   "execution_count": 24,
   "id": "56f57670",
   "metadata": {},
   "outputs": [
    {
     "name": "stdout",
     "output_type": "stream",
     "text": [
      "Number of new from new genes nuclear genes: 62\n",
      "Not exclusive to ours: 0\n",
      "Exclusive to ours: 62\n",
      "Found in Leung: 0\n",
      "Found in Glinos: 0\n",
      "Found in Heberle: 0\n",
      "Found in All: 0\n"
     ]
    }
   ],
   "source": [
    "print(\"Number of new from new genes nuclear genes:\", df_new_from_new.shape[0])\n",
    "print(\"Not exclusive to ours:\", df_new_from_new.loc[df_new_from_new[\"is_in_any\"] == True].shape[0])\n",
    "print(\"Exclusive to ours:\", df_new_from_new.loc[df_new_from_new[\"is_in_any\"] == False].shape[0])\n",
    "print(\"Found in Leung:\", df_new_from_new.loc[df_new_from_new[\"is_in_leung\"] == True].shape[0])\n",
    "print(\"Found in Glinos:\", df_new_from_new.loc[df_new_from_new[\"is_in_glinos\"] == True].shape[0])\n",
    "print(\"Found in Heberle:\", df_new_from_new.loc[df_new_from_new[\"is_in_heberle\"] == True].shape[0])\n",
    "print(\"Found in All:\", df_new_from_new.loc[df_new_from_new[\"is_in_all\"] == True].shape[0])"
   ]
  },
  {
   "cell_type": "code",
   "execution_count": 25,
   "id": "8a77892d",
   "metadata": {},
   "outputs": [
    {
     "data": {
      "text/plain": [
       "Index(['heberle', 'category_heberle', 'ours', 'glinos', 'category_glinos',\n",
       "       'leung', 'category_leung', 'is_in_heberle', 'is_in_glinos',\n",
       "       'is_in_leung', 'is_in_all', 'is_in_any', 'gene_id', 'transcript_id',\n",
       "       'gene_name', 'chr'],\n",
       "      dtype='object')"
      ]
     },
     "execution_count": 25,
     "metadata": {},
     "output_type": "execute_result"
    }
   ],
   "source": [
    "df.columns"
   ]
  },
  {
   "cell_type": "code",
   "execution_count": 26,
   "id": "f98cefc8",
   "metadata": {},
   "outputs": [],
   "source": [
    "df_output = df[['gene_id', 'gene_name', 'transcript_id', 'chr', 'heberle', 'glinos', 'leung', 'is_in_heberle', 'is_in_glinos', 'is_in_leung', 'is_in_all', 'is_in_any']].copy()"
   ]
  },
  {
   "cell_type": "code",
   "execution_count": 27,
   "id": "50d8778a",
   "metadata": {},
   "outputs": [],
   "source": [
    "df_output.to_csv(\"../data/processed/compare_annotations/ours_vs_heberle_vs_glinos_vs_leung_comparison.tsv\", sep=\"\\t\",\n",
    "                index=False)"
   ]
  }
 ],
 "metadata": {
  "kernelspec": {
   "display_name": "Python 3 (ipykernel)",
   "language": "python",
   "name": "python3"
  },
  "language_info": {
   "codemirror_mode": {
    "name": "ipython",
    "version": 3
   },
   "file_extension": ".py",
   "mimetype": "text/x-python",
   "name": "python",
   "nbconvert_exporter": "python",
   "pygments_lexer": "ipython3",
   "version": "3.10.13"
  }
 },
 "nbformat": 4,
 "nbformat_minor": 5
}
